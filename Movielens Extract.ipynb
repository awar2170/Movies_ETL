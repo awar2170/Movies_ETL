{
 "cells": [
  {
   "cell_type": "markdown",
   "id": "193de6dc",
   "metadata": {},
   "source": [
    "# Extract the Kaggle Data"
   ]
  },
  {
   "cell_type": "code",
   "execution_count": 6,
   "id": "2ae26cd9",
   "metadata": {},
   "outputs": [],
   "source": [
    "import pandas as pd "
   ]
  },
  {
   "cell_type": "code",
   "execution_count": 11,
   "id": "8bfc7c12",
   "metadata": {},
   "outputs": [
    {
     "name": "stderr",
     "output_type": "stream",
     "text": [
      "C:\\Users\\adeve\\anaconda3\\envs\\PythonData\\lib\\site-packages\\IPython\\core\\interactiveshell.py:3444: DtypeWarning: Columns (10) have mixed types.Specify dtype option on import or set low_memory=False.\n",
      "  exec(code_obj, self.user_global_ns, self.user_ns)\n"
     ]
    }
   ],
   "source": [
    "movies_metadata = pd.read_csv('KaggleData/movies_metadata.csv')\n",
    "ratings = pd.read_csv('KaggleData/ratings.csv')\n",
    "\n",
    "# The movies_metadata dataframe will give us a warning saying there is a column with mized data types \n",
    "# We can igure this worning\n",
    "# Or we can tell pythong \"low_memory = False\" after the .csv' and before the close of the parentheses"
   ]
  },
  {
   "cell_type": "code",
   "execution_count": 12,
   "id": "0dfa9afe",
   "metadata": {},
   "outputs": [
    {
     "data": {
      "text/html": [
       "<div>\n",
       "<style scoped>\n",
       "    .dataframe tbody tr th:only-of-type {\n",
       "        vertical-align: middle;\n",
       "    }\n",
       "\n",
       "    .dataframe tbody tr th {\n",
       "        vertical-align: top;\n",
       "    }\n",
       "\n",
       "    .dataframe thead th {\n",
       "        text-align: right;\n",
       "    }\n",
       "</style>\n",
       "<table border=\"1\" class=\"dataframe\">\n",
       "  <thead>\n",
       "    <tr style=\"text-align: right;\">\n",
       "      <th></th>\n",
       "      <th>userId</th>\n",
       "      <th>movieId</th>\n",
       "      <th>rating</th>\n",
       "      <th>timestamp</th>\n",
       "    </tr>\n",
       "  </thead>\n",
       "  <tbody>\n",
       "    <tr>\n",
       "      <th>0</th>\n",
       "      <td>1</td>\n",
       "      <td>110</td>\n",
       "      <td>1.0</td>\n",
       "      <td>1425941529</td>\n",
       "    </tr>\n",
       "    <tr>\n",
       "      <th>1</th>\n",
       "      <td>1</td>\n",
       "      <td>147</td>\n",
       "      <td>4.5</td>\n",
       "      <td>1425942435</td>\n",
       "    </tr>\n",
       "    <tr>\n",
       "      <th>2</th>\n",
       "      <td>1</td>\n",
       "      <td>858</td>\n",
       "      <td>5.0</td>\n",
       "      <td>1425941523</td>\n",
       "    </tr>\n",
       "    <tr>\n",
       "      <th>3</th>\n",
       "      <td>1</td>\n",
       "      <td>1221</td>\n",
       "      <td>5.0</td>\n",
       "      <td>1425941546</td>\n",
       "    </tr>\n",
       "    <tr>\n",
       "      <th>4</th>\n",
       "      <td>1</td>\n",
       "      <td>1246</td>\n",
       "      <td>5.0</td>\n",
       "      <td>1425941556</td>\n",
       "    </tr>\n",
       "  </tbody>\n",
       "</table>\n",
       "</div>"
      ],
      "text/plain": [
       "   userId  movieId  rating   timestamp\n",
       "0       1      110     1.0  1425941529\n",
       "1       1      147     4.5  1425942435\n",
       "2       1      858     5.0  1425941523\n",
       "3       1     1221     5.0  1425941546\n",
       "4       1     1246     5.0  1425941556"
      ]
     },
     "execution_count": 12,
     "metadata": {},
     "output_type": "execute_result"
    }
   ],
   "source": [
    "# Check to make sure that this looks okay \n",
    "movies_metadata.head()\n",
    "# note to self, 1) THe movies_metadata looks good and 2) these appear really big files, so you probably don't want to look at the entire dataset \n",
    "ratings.head()"
   ]
  },
  {
   "cell_type": "markdown",
   "id": "26effc01",
   "metadata": {},
   "source": [
    "We could have also pulled in the files by using the flat file formats: \n",
    "\n",
    "kaggle_metadata = pd.read_csv(f'{file_dir}movies_metadata.csv', low_memory=False)\n",
    "\n",
    "ratings = pd.read_csv(f'{file_dir}ratings.csv')"
   ]
  },
  {
   "cell_type": "code",
   "execution_count": 14,
   "id": "cb7c56f4",
   "metadata": {},
   "outputs": [
    {
     "data": {
      "text/html": [
       "<div>\n",
       "<style scoped>\n",
       "    .dataframe tbody tr th:only-of-type {\n",
       "        vertical-align: middle;\n",
       "    }\n",
       "\n",
       "    .dataframe tbody tr th {\n",
       "        vertical-align: top;\n",
       "    }\n",
       "\n",
       "    .dataframe thead th {\n",
       "        text-align: right;\n",
       "    }\n",
       "</style>\n",
       "<table border=\"1\" class=\"dataframe\">\n",
       "  <thead>\n",
       "    <tr style=\"text-align: right;\">\n",
       "      <th></th>\n",
       "      <th>userId</th>\n",
       "      <th>movieId</th>\n",
       "      <th>rating</th>\n",
       "      <th>timestamp</th>\n",
       "    </tr>\n",
       "  </thead>\n",
       "  <tbody>\n",
       "    <tr>\n",
       "      <th>19855426</th>\n",
       "      <td>206367</td>\n",
       "      <td>314</td>\n",
       "      <td>5.0</td>\n",
       "      <td>953234881</td>\n",
       "    </tr>\n",
       "    <tr>\n",
       "      <th>7902557</th>\n",
       "      <td>81464</td>\n",
       "      <td>4823</td>\n",
       "      <td>2.0</td>\n",
       "      <td>1259004395</td>\n",
       "    </tr>\n",
       "    <tr>\n",
       "      <th>8820270</th>\n",
       "      <td>90910</td>\n",
       "      <td>4903</td>\n",
       "      <td>5.0</td>\n",
       "      <td>1015725274</td>\n",
       "    </tr>\n",
       "    <tr>\n",
       "      <th>7602682</th>\n",
       "      <td>78538</td>\n",
       "      <td>53953</td>\n",
       "      <td>3.5</td>\n",
       "      <td>1446030554</td>\n",
       "    </tr>\n",
       "    <tr>\n",
       "      <th>22182903</th>\n",
       "      <td>230298</td>\n",
       "      <td>1210</td>\n",
       "      <td>4.5</td>\n",
       "      <td>1121556740</td>\n",
       "    </tr>\n",
       "  </tbody>\n",
       "</table>\n",
       "</div>"
      ],
      "text/plain": [
       "          userId  movieId  rating   timestamp\n",
       "19855426  206367      314     5.0   953234881\n",
       "7902557    81464     4823     2.0  1259004395\n",
       "8820270    90910     4903     5.0  1015725274\n",
       "7602682    78538    53953     3.5  1446030554\n",
       "22182903  230298     1210     4.5  1121556740"
      ]
     },
     "execution_count": 14,
     "metadata": {},
     "output_type": "execute_result"
    }
   ],
   "source": [
    "# Skill Drill: Using the sample method to check the middle of the dataset \n",
    "movies_metadata.sample(n=5)\n",
    "ratings.sample(n=5)\n",
    "# This will give you a random sample of 5 rows in the dataframe"
   ]
  },
  {
   "cell_type": "markdown",
   "id": "494fab3f",
   "metadata": {},
   "source": [
    "# Transforming the Data\n",
    "Wikipedia gives data in not a standard form, so we have to organize the data before we can output it to sql \n",
    "\n",
    "Step 1: Inspect the extracted data \n",
    "- there are a lot of columns in this dataframe, and pandas won't display them all \n",
    "- we would have to convert the columsn into a list to see them all \n",
    "- from there, then you should plan what to do with teh not needed columns \n",
    "- if you don't need entire columns, then filter then out \n",
    "- We'll loop through the file and keep certain aspects of the data \n",
    "\n",
    "See the Transform jupyter notebook for the code for the steps above"
   ]
  },
  {
   "cell_type": "code",
   "execution_count": 16,
   "id": "90204316",
   "metadata": {},
   "outputs": [
    {
     "ename": "NameError",
     "evalue": "name 'wiki_movies_raw' is not defined",
     "output_type": "error",
     "traceback": [
      "\u001b[1;31m---------------------------------------------------------------------------\u001b[0m",
      "\u001b[1;31mNameError\u001b[0m                                 Traceback (most recent call last)",
      "\u001b[1;32m~\\AppData\\Local\\Temp/ipykernel_3024/1904778034.py\u001b[0m in \u001b[0;36m<module>\u001b[1;34m\u001b[0m\n\u001b[1;32m----> 1\u001b[1;33m wiki_movies = [movie for movie in wiki_movies_raw\n\u001b[0m\u001b[0;32m      2\u001b[0m                   \u001b[1;32mif\u001b[0m \u001b[1;33m(\u001b[0m\u001b[1;34m\"Director\"\u001b[0m \u001b[1;32min\u001b[0m \u001b[0mmovie\u001b[0m \u001b[1;32mor\u001b[0m \u001b[1;34m\"Directed by\"\u001b[0m \u001b[1;32min\u001b[0m \u001b[0mmove\u001b[0m\u001b[1;33m)\u001b[0m\u001b[1;33m\u001b[0m\u001b[1;33m\u001b[0m\u001b[0m\n\u001b[0;32m      3\u001b[0m                       \u001b[1;32mand\u001b[0m \u001b[1;34m'imdb_link'\u001b[0m \u001b[1;32min\u001b[0m \u001b[0mmove\u001b[0m\u001b[1;33m\u001b[0m\u001b[1;33m\u001b[0m\u001b[0m\n\u001b[0;32m      4\u001b[0m                       and 'No. of episodes' not in move]\n",
      "\u001b[1;31mNameError\u001b[0m: name 'wiki_movies_raw' is not defined"
     ]
    }
   ],
   "source": []
  },
  {
   "cell_type": "code",
   "execution_count": null,
   "id": "0dd6fd1b",
   "metadata": {},
   "outputs": [],
   "source": []
  }
 ],
 "metadata": {
  "kernelspec": {
   "display_name": "PythonData",
   "language": "python",
   "name": "pythondata"
  },
  "language_info": {
   "codemirror_mode": {
    "name": "ipython",
    "version": 3
   },
   "file_extension": ".py",
   "mimetype": "text/x-python",
   "name": "python",
   "nbconvert_exporter": "python",
   "pygments_lexer": "ipython3",
   "version": "3.9.7"
  }
 },
 "nbformat": 4,
 "nbformat_minor": 5
}
